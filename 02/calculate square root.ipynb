{
 "metadata": {
  "name": "calculate square root"
 }, 
 "nbformat": 2, 
 "worksheets": [
  {
   "cells": [
    {
     "cell_type": "code", 
     "collapsed": false, 
     "input": [
      "v = 121", 
      "", 
      "guess = 1", 
      "", 
      "while v > guess*guess:", 
      "   guess += 1", 
      "", 
      "print guess"
     ], 
     "language": "python", 
     "outputs": [
      {
       "output_type": "stream", 
       "stream": "stdout", 
       "text": [
        "11"
       ]
      }
     ], 
     "prompt_number": 1
    }, 
    {
     "cell_type": "code", 
     "collapsed": false, 
     "input": [
      "v = 10", 
      "", 
      "v = float(v)", 
      "tolerance = v * 1.e-4", 
      "guess = v", 
      "#guess = 0.5 * (v + 1.)", 
      "", 
      "while abs(v - guess*guess) > tolerance:", 
      "   guess = 0.5 * (guess + v / guess)", 
      "", 
      "print guess, guess*guess"
     ], 
     "language": "python", 
     "outputs": [
      {
       "output_type": "stream", 
       "stream": "stdout", 
       "text": [
        "3.16227766518 10.0000000317"
       ]
      }
     ], 
     "prompt_number": 2
    }
   ]
  }
 ]
}