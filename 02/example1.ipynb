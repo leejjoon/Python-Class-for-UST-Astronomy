{
 "metadata": {
  "name": "example1"
 }, 
 "nbformat": 2, 
 "worksheets": [
  {
   "cells": [
    {
     "cell_type": "markdown", 
     "source": [
      "## \"if\" statement"
     ]
    }, 
    {
     "cell_type": "code", 
     "collapsed": false, 
     "input": [
      "a = 5", 
      "remainder = a % 2", 
      "", 
      "if remainder == 1:", 
      "    print \"odd\"", 
      "else:", 
      "    print \"even\""
     ], 
     "language": "python", 
     "outputs": [
      {
       "output_type": "stream", 
       "stream": "stdout", 
       "text": [
        "odd"
       ]
      }
     ], 
     "prompt_number": 1
    }, 
    {
     "cell_type": "markdown", 
     "source": [
      "\"if\" statement can test an arbitrary expression."
     ]
    }, 
    {
     "cell_type": "code", 
     "collapsed": false, 
     "input": [
      "a = 5", 
      "remainder = a % 2", 
      "", 
      "if remainder:", 
      "    print \"odd\"", 
      "else:", 
      "    print \"even\""
     ], 
     "language": "python", 
     "outputs": [
      {
       "output_type": "stream", 
       "stream": "stdout", 
       "text": [
        "odd"
       ]
      }
     ], 
     "prompt_number": 2
    }, 
    {
     "cell_type": "markdown", 
     "source": [
      "## \"while\" loop"
     ]
    }, 
    {
     "cell_type": "code", 
     "collapsed": false, 
     "input": [
      "num_moons = 3", 
      "while num_moons > 0:", 
      "    print num_moons", 
      "    num_moons -= 1"
     ], 
     "language": "python", 
     "outputs": [
      {
       "output_type": "stream", 
       "stream": "stdout", 
       "text": [
        "3", 
        "2", 
        "1"
       ]
      }
     ], 
     "prompt_number": 3
    }, 
    {
     "cell_type": "code", 
     "collapsed": true, 
     "input": [
      "num_moons = -3", 
      "while num_moons > 0:", 
      "    print num_moons", 
      "    num_moons -= 1"
     ], 
     "language": "python", 
     "outputs": [], 
     "prompt_number": 4
    }, 
    {
     "cell_type": "markdown", 
     "source": [
      "The \"else\" clause will be excuted even if the main \"while\" clause is not. ", 
      "Similar to the \"else\" clause in the \"if\" statement."
     ]
    }, 
    {
     "cell_type": "code", 
     "collapsed": false, 
     "input": [
      "num_moons = -3", 
      "while num_moons > 0:", 
      "    print num_moons", 
      "    num_moons -= 1", 
      "else:", 
      "    print \"skipping the loop\""
     ], 
     "language": "python", 
     "outputs": [
      {
       "output_type": "stream", 
       "stream": "stdout", 
       "text": [
        "skipping the loop"
       ]
      }
     ], 
     "prompt_number": 5
    }, 
    {
     "cell_type": "code", 
     "collapsed": false, 
     "input": [
      "num_moons = 3", 
      "while True:", 
      "    print num_moons", 
      "    num_moons -= 1", 
      "    if num_moons > 0:", 
      "       continue", 
      "    else:", 
      "       break"
     ], 
     "language": "python", 
     "outputs": [
      {
       "output_type": "stream", 
       "stream": "stdout", 
       "text": [
        "3", 
        "2", 
        "1"
       ]
      }
     ], 
     "prompt_number": 6
    }, 
    {
     "cell_type": "code", 
     "collapsed": false, 
     "input": [
      "num = 2", 
      "while num <= 10:", 
      "    is_prime = True", 
      "    trial = 2", 
      "    while trial**2 <= num:", 
      "        if (num % trial) == 0:", 
      "            is_prime = False", 
      "            break", 
      "        trial += 1", 
      "    if is_prime:", 
      "        print num", 
      "    num += 1"
     ], 
     "language": "python", 
     "outputs": [
      {
       "output_type": "stream", 
       "stream": "stdout", 
       "text": [
        "2", 
        "3", 
        "5", 
        "7"
       ]
      }
     ], 
     "prompt_number": 7
    }, 
    {
     "cell_type": "code", 
     "collapsed": false, 
     "input": [
      "num = 2", 
      "while num <= 10:", 
      "    is_prime = True", 
      "    trial = 2", 
      "    while trial**2 <= num:", 
      "        if (num % trial) == 0:", 
      "            is_prime = False", 
      "        trial += 1", 
      "    if is_prime:", 
      "        print num", 
      "    num += 1"
     ], 
     "language": "python", 
     "outputs": [
      {
       "output_type": "stream", 
       "stream": "stdout", 
       "text": [
        "2", 
        "3", 
        "5", 
        "7"
       ]
      }
     ], 
     "prompt_number": 8
    }, 
    {
     "cell_type": "code", 
     "collapsed": false, 
     "input": [
      "num = 2", 
      "while num <= 10:", 
      "    trial = 2", 
      "    while trial**2 <= num:", 
      "        if (num % trial) == 0:", 
      "            break", 
      "        trial += 1", 
      "    else:", 
      "        print num", 
      "    num += 1"
     ], 
     "language": "python", 
     "outputs": [
      {
       "output_type": "stream", 
       "stream": "stdout", 
       "text": [
        "2", 
        "3", 
        "5", 
        "7"
       ]
      }
     ], 
     "prompt_number": 9
    }, 
    {
     "cell_type": "code", 
     "collapsed": true, 
     "input": [], 
     "language": "python", 
     "outputs": [], 
     "prompt_number": 9
    }
   ]
  }
 ]
}