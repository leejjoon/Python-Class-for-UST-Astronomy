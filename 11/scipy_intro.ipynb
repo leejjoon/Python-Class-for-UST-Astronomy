{
 "metadata": {
  "name": "scipy_intro"
 }, 
 "nbformat": 2, 
 "worksheets": [
  {
   "cells": [
    {
     "cell_type": "markdown", 
     "source": [
      "#Scipy", 
      "", 
      "The ``scipy`` package contains various toolboxes dedicated to common", 
      "issues in scientific computing.", 
      "", 
      "Its different submodules correspond", 
      "to different applications, such as", 
      "", 
      " - interpolation", 
      "", 
      " - integration", 
      "", 
      " - optimization", 
      "", 
      " - image processing", 
      "", 
      " - statistics", 
      "", 
      " - special functions", 
      "", 
      " - etc."
     ]
    }, 
    {
     "cell_type": "markdown", 
     "source": [
      "If there is something you want to do, check if other already have implemented.", 
      "", 
      "As non-professional programmers, scientists often tend to **re-invent the", 
      "wheel**, which leads to", 
      "", 
      " - buggy", 
      "", 
      " - non-optimal", 
      "", 
      " - difficult-to-share", 
      "", 
      " - unmaintainable code.", 
      "", 
      "You should check if the desired data processing is not already", 
      "implemented in Scipy. ``Scipy``'s routines are optimized and tested,", 
      "and should therefore be used when possible."
     ]
    }, 
    {
     "cell_type": "markdown", 
     "source": [
      "`scipy` is mainly composed of task-specific sub-modules:", 
      "", 
      "<table border=\"1\" class=\"docutils\">", 
      "<colgroup>", 
      "<col width=\"22%\" />", 
      "<col width=\"78%\" />", 
      "</colgroup>", 
      "<tbody valign=\"top\">", 
      "<tr><td>cluster</td>", 
      "<td>Vector quantization / Kmeans</td>", 
      "</tr>", 
      "<tr><td>fftpack</td>", 
      "<td>Fourier transform</td>", 
      "</tr>", 
      "<tr><td>integrate</td>", 
      "<td>Integration routines</td>", 
      "</tr>", 
      "<tr><td>interpolate</td>", 
      "<td>Interpolation</td>", 
      "</tr>", 
      "<tr><td>io</td>", 
      "<td>Data input and output</td>", 
      "</tr>", 
      "<tr><td>linalg</td>", 
      "<td>Linear algebra routines</td>", 
      "</tr>", 
      "<tr><td>maxentropy</td>", 
      "<td>Routines for fitting maximum entropy models</td>", 
      "</tr>", 
      "<tr><td>ndimage</td>", 
      "<td>n-dimensional image package</td>", 
      "</tr>", 
      "<tr><td>odr</td>", 
      "<td>Orthogonal distance regression</td>", 
      "</tr>", 
      "<tr><td>optimize</td>", 
      "<td>Optimization</td>", 
      "</tr>", 
      "<tr><td>signal</td>", 
      "<td>Signal processing</td>", 
      "</tr>", 
      "<tr><td>sparse</td>", 
      "<td>Sparse matrices</td>", 
      "</tr>", 
      "<tr><td>spatial</td>", 
      "<td>Spatial data structures and algorithms</td>", 
      "</tr>", 
      "<tr><td>special</td>", 
      "<td>Any special mathematical functions</td>", 
      "</tr>", 
      "<tr><td>stats</td>", 
      "<td>Statistics</td>", 
      "</tr>", 
      "</tbody>", 
      "</table>", 
      ""
     ]
    }, 
    {
     "cell_type": "markdown", 
     "source": [
      "## numpy.ufunc", 
      "", 
      "A universal function (or ufunc for short) is a function that operates", 
      "on ndarrays in an element-by-element fashion, supporting array", 
      "`broadcasting`, `type casting`, and several other standard features.", 
      "", 
      "a ufunc is a `vectorized` wrapper for a function that takes a", 
      "fixed number of scalar inputs and produces a fixed number of scalar", 
      "outputs.", 
      "", 
      "", 
      "Numpy implement basic ufuncs.", 
      "", 
      "http://docs.scipy.org/doc/numpy/reference/ufuncs.html", 
      "", 
      "``scipy.special`` implements ufunc for special functions."
     ]
    }, 
    {
     "cell_type": "markdown", 
     "source": [
      "#Special functions: ``scipy.special``", 
      "", 
      " * Bessel function, such as `special.jn` (nth integer order Bessel", 
      "   function)", 
      "", 
      " * Elliptic function (`special.ellipj` for the Jacobian elliptic", 
      "   function, ...)", 
      "", 
      " * Gamma function: `special.gamma`, also note `special.gammaln` which", 
      "   will give the log of Gamma to a higher numerical precision.", 
      "", 
      " * Erf, the area under a Gaussian curve: `special.erf`"
     ]
    }, 
    {
     "cell_type": "code", 
     "collapsed": true, 
     "input": [
      "import scipy as sp", 
      "import scipy.special as sps"
     ], 
     "language": "python", 
     "outputs": [], 
     "prompt_number": 1
    }, 
    {
     "cell_type": "code", 
     "collapsed": false, 
     "input": [
      "# Bessel functions of the first kind : Jn", 
      "sps.jn?"
     ], 
     "language": "python", 
     "outputs": [], 
     "prompt_number": 2
    }, 
    {
     "cell_type": "code", 
     "collapsed": false, 
     "input": [
      "x = np.linspace(0, 20, 100)", 
      "for i in range(4):", 
      "    plot(x, sps.jn(i, x), label=r\"$J_%d(x)$\" % i)", 
      "legend()"
     ], 
     "language": "python", 
     "outputs": [
      {
       "output_type": "pyout", 
       "prompt_number": 3, 
       "text": [
        "<matplotlib.legend.Legend at 0x2a645d0>"
       ]
      }
     ], 
     "prompt_number": 3
    }, 
    {
     "cell_type": "markdown", 
     "source": [
      "## numpy.poly1d", 
      "", 
      "- ``poly1d([1, 2, 3])`` returns an object that represents", 
      "    $x^2 + 2x + 3$", 
      "", 
      "- ``poly1d([1, 2, 3], True)`` returns", 
      "    one that represents $(x-1)(x-2)(x-3)$"
     ]
    }, 
    {
     "cell_type": "code", 
     "collapsed": false, 
     "input": [
      "f1 = np.poly1d([1,3,-2])", 
      "plot(x, f1(x))"
     ], 
     "language": "python", 
     "outputs": [
      {
       "output_type": "pyout", 
       "prompt_number": 4, 
       "text": [
        "[<matplotlib.lines.Line2D at 0x2a2ec90>]"
       ]
      }
     ], 
     "prompt_number": 4
    }, 
    {
     "cell_type": "code", 
     "collapsed": false, 
     "input": [
      "print f1", 
      "print f1.deriv()", 
      "print f1.integ()"
     ], 
     "language": "python", 
     "outputs": [
      {
       "output_type": "stream", 
       "stream": "stdout", 
       "text": [
        "   2", 
        "1 x + 3 x - 2", 
        " ", 
        "2 x + 3", 
        "        3       2", 
        "0.3333 x + 1.5 x - 2 x"
       ]
      }
     ], 
     "prompt_number": 5
    }, 
    {
     "cell_type": "markdown", 
     "source": [
      "scipy.special supports various types of polynomials"
     ]
    }, 
    {
     "cell_type": "code", 
     "collapsed": false, 
     "input": [
      "l0 = sps.legendre(0)", 
      "isinstance(l0, np.poly1d)"
     ], 
     "language": "python", 
     "outputs": [
      {
       "output_type": "pyout", 
       "prompt_number": 6, 
       "text": [
        "True"
       ]
      }
     ], 
     "prompt_number": 6
    }, 
    {
     "cell_type": "code", 
     "collapsed": false, 
     "input": [
      "xx = np.linspace(-1, 1, 100)", 
      "legendre = [sps.legendre(i) for i in range(4)]", 
      "for i,l_ in enumerate(legendre):", 
      "    plot(xx, l_(xx), label=\"order=%d\" % i)", 
      "legend()"
     ], 
     "language": "python", 
     "outputs": [
      {
       "output_type": "pyout", 
       "prompt_number": 7, 
       "text": [
        "<matplotlib.legend.Legend at 0x2c4aa90>"
       ]
      }
     ], 
     "prompt_number": 7
    }, 
    {
     "cell_type": "code", 
     "collapsed": true, 
     "input": [
      "# you may directly evaluate the legebdre polynomials at given points", 
      "y = sps.eval_legendre(3, xx)"
     ], 
     "language": "python", 
     "outputs": [], 
     "prompt_number": 8
    }, 
    {
     "cell_type": "markdown", 
     "source": [
      "## Interpolation: ``scipy.interpolate``", 
      "", 
      "The ``scipy.interpolate`` is useful for fitting a function from experimental", 
      "data and thus evaluating points where no measure exists. The module is based", 
      "on the `FITPACK Fortran subroutines`_ from the netlib_ project."
     ]
    }, 
    {
     "cell_type": "markdown", 
     "source": [
      "By imagining experimental data close to a sinus function::", 
      "", 
      "   ", 
      ""
     ]
    }, 
    {
     "cell_type": "code", 
     "collapsed": false, 
     "input": [
      "measured_time = np.linspace(0, 1, 10)", 
      "noise = (np.random.random(10)*2 - 1) * 1e-1", 
      "measures = np.sin(2 * np.pi * measured_time)+ noise", 
      "", 
      "plot(measured_time, measures, \"o\")"
     ], 
     "language": "python", 
     "outputs": [
      {
       "output_type": "pyout", 
       "prompt_number": 9, 
       "text": [
        "[<matplotlib.lines.Line2D at 0x2c54690>]"
       ]
      }
     ], 
     "prompt_number": 9
    }, 
    {
     "cell_type": "markdown", 
     "source": [
      "The ``interp1d`` class can built a linear interpolation function::"
     ]
    }, 
    {
     "cell_type": "code", 
     "collapsed": true, 
     "input": [
      "from scipy.interpolate import interp1d", 
      "linear_interp = interp1d(measured_time, measures)"
     ], 
     "language": "python", 
     "outputs": [], 
     "prompt_number": 10
    }, 
    {
     "cell_type": "markdown", 
     "source": [
      "Then the ``linear_interp`` instance needs to be evaluated on time of", 
      "interest::"
     ]
    }, 
    {
     "cell_type": "code", 
     "collapsed": false, 
     "input": [
      "computed_time = np.linspace(0, 1, 50)", 
      "linear_results = linear_interp(computed_time)", 
      "", 
      "plot(computed_time, linear_results)"
     ], 
     "language": "python", 
     "outputs": [
      {
       "output_type": "pyout", 
       "prompt_number": 11, 
       "text": [
        "[<matplotlib.lines.Line2D at 0x2f524d0>]"
       ]
      }
     ], 
     "prompt_number": 11
    }, 
    {
     "cell_type": "code", 
     "collapsed": true, 
     "input": [
      "quad_interp = interp1d(measured_time, measures, kind=\"quadratic\")"
     ], 
     "language": "python", 
     "outputs": [], 
     "prompt_number": 12
    }, 
    {
     "cell_type": "code", 
     "collapsed": false, 
     "input": [
      "plot(computed_time, quad_interp(computed_time))"
     ], 
     "language": "python", 
     "outputs": [
      {
       "output_type": "pyout", 
       "prompt_number": 13, 
       "text": [
        "[<matplotlib.lines.Line2D at 0x2f52250>]"
       ]
      }
     ], 
     "prompt_number": 13
    }, 
    {
     "cell_type": "markdown", 
     "source": [
      "### spline interpolation"
     ]
    }, 
    {
     "cell_type": "code", 
     "collapsed": false, 
     "input": [
      "import scipy.interpolate as spi", 
      "tck = spi.splrep(measured_time, measures)", 
      "print tck"
     ], 
     "language": "python", 
     "outputs": [
      {
       "output_type": "stream", 
       "stream": "stdout", 
       "text": [
        "(array([ 0.        ,  0.        ,  0.        ,  0.        ,  0.22222222,", 
        "        0.33333333,  0.44444444,  0.55555556,  0.66666667,  0.77777778,", 
        "        1.        ,  1.        ,  1.        ,  1.        ]), array([ 0.09010204,  0.45995664,  1.1542846 ,  0.97708479,  0.42657256,", 
        "       -0.38280977, -0.85973475, -1.28520469, -0.44365874,  0.04899572,", 
        "        0.        ,  0.        ,  0.        ,  0.        ]), 3)"
       ]
      }
     ], 
     "prompt_number": 14
    }, 
    {
     "cell_type": "code", 
     "collapsed": false, 
     "input": [
      "yy = spi.splev(computed_time, tck)", 
      "plot(computed_time, yy)"
     ], 
     "language": "python", 
     "outputs": [
      {
       "output_type": "pyout", 
       "prompt_number": 15, 
       "text": [
        "[<matplotlib.lines.Line2D at 0x2f5b190>]"
       ]
      }
     ], 
     "prompt_number": 15
    }, 
    {
     "cell_type": "code", 
     "collapsed": false, 
     "input": [
      "tck = spi.splrep(measured_time, measures, s=10)", 
      "yy = spi.splev(computed_time, tck)", 
      "plot(computed_time, yy)"
     ], 
     "language": "python", 
     "outputs": [
      {
       "output_type": "pyout", 
       "prompt_number": 16, 
       "text": [
        "[<matplotlib.lines.Line2D at 0x2f5b9d0>]"
       ]
      }
     ], 
     "prompt_number": 16
    }, 
    {
     "cell_type": "markdown", 
     "source": [
      "## Numerical integration: ``scipy.integrate``", 
      "", 
      "Gausian Quadrature", 
      "", 
      "An n-point Gaussian quadrature rule", 
      "is a rule constructed to yield an exact result for", 
      "polynomials of degree 2n \u2212 1 or less by a suitable choice of the", 
      "points xi and weights wi for i = 1,...,n. The domain of integration", 
      "for such a rule is conventionally taken as [\u22121, 1], so the rule is", 
      "stated as", 
      "", 
      "$\\int_{-1}^1 f(x)\\,dx \\approx \\sum_{i=1}^n w_i f(x_i)$", 
      "", 
      "http://en.wikipedia.org/wiki/Gaussian_quadrature#Gauss.E2.80.93Legendre_quadrature", 
      "", 
      "However, utility of Gaussian quadrature is limited."
     ]
    }, 
    {
     "cell_type": "markdown", 
     "source": [
      "In general, a quadrature rule is an approximation of the definite", 
      "integral of a function, usually stated as a weighted sum of function", 
      "values at specified points within the domain of integration.", 
      "", 
      "The most generic integration routine is ``scipy.integrate.quad``::"
     ]
    }, 
    {
     "cell_type": "code", 
     "collapsed": true, 
     "input": [
      "from scipy.integrate import quad", 
      "quad?"
     ], 
     "language": "python", 
     "outputs": [], 
     "prompt_number": 17
    }, 
    {
     "cell_type": "code", 
     "collapsed": false, 
     "input": [
      "res, err = quad(np.sin, 0, np.pi/2)", 
      "res, err"
     ], 
     "language": "python", 
     "outputs": [
      {
       "output_type": "pyout", 
       "prompt_number": 18, 
       "text": [
        "(0.9999999999999999, 1.1102230246251564e-14)"
       ]
      }
     ], 
     "prompt_number": 18
    }, 
    {
     "cell_type": "markdown", 
     "source": [
      "Other integration schemes are available with `fixed_quad`,", 
      "`quadrature`, `romberg`."
     ]
    }, 
    {
     "cell_type": "markdown", 
     "source": [
      "## Statistics and random numbers: ``numpy.random`` and ``scipy.stats``", 
      "", 
      "Random number generators for various", 
      "random process can be found in `numpy.random`.", 
      "The module `scipy.stats` contains statistical tools and probabilistic", 
      "description of random processes."
     ]
    }, 
    {
     "cell_type": "code", 
     "collapsed": true, 
     "input": [
      "a = np.random.normal(size=1000)", 
      "bins = np.arange(-4, 5)", 
      "histogram = np.histogram(a, bins=bins, normed=True)[0]", 
      ""
     ], 
     "language": "python", 
     "outputs": [], 
     "prompt_number": 19
    }, 
    {
     "cell_type": "code", 
     "collapsed": false, 
     "input": [
      "xx = np.linspace(-5, 5, 100)", 
      "from scipy import stats", 
      "yy = stats.norm.pdf(xx, loc=0, scale=1)", 
      "plot(bins[:-1], histogram, drawstyle=\"steps-post\")", 
      "plot(xx, yy)"
     ], 
     "language": "python", 
     "outputs": [
      {
       "output_type": "pyout", 
       "prompt_number": 20, 
       "text": [
        "[<matplotlib.lines.Line2D at 0x331a290>]"
       ]
      }
     ], 
     "prompt_number": 20
    }, 
    {
     "cell_type": "markdown", 
     "source": [
      "or"
     ]
    }, 
    {
     "cell_type": "code", 
     "collapsed": true, 
     "input": [
      "norm = stats.norm(loc=0, scale=1)", 
      "yy = norm.pdf(bins)"
     ], 
     "language": "python", 
     "outputs": [], 
     "prompt_number": 21
    }, 
    {
     "cell_type": "markdown", 
     "source": [
      "## Median and Percentiles", 
      "", 
      "", 
      "The median is calculated", 
      "", 
      "    >>> np.median(a)", 
      "    0.0071645570292782519", 
      "", 
      "Median is also called the percentile 50, because 50% of the observation are", 
      "below it:", 
      "", 
      "    >>> stats.scoreatpercentile(a, 50)", 
      "    0.0071645570292782519", 
      "", 
      "Similarly, we can calculate the percentile 90:", 
      "", 
      "    >>> stats.scoreatpercentile(a, 90)", 
      "    1.2729556087871292"
     ]
    }, 
    {
     "cell_type": "code", 
     "collapsed": true, 
     "input": [], 
     "language": "python", 
     "outputs": [], 
     "prompt_number": 21
    }
   ]
  }
 ]
}